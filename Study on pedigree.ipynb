{
 "cells": [
  {
   "cell_type": "markdown",
   "id": "9da1e343",
   "metadata": {},
   "source": [
    "# Study on pedigree data"
   ]
  },
  {
   "cell_type": "markdown",
   "id": "efb6c0c3",
   "metadata": {},
   "source": [
    "Importing necessary libraries and configurating ploting "
   ]
  },
  {
   "cell_type": "code",
   "execution_count": 1,
   "id": "0b06772c",
   "metadata": {},
   "outputs": [],
   "source": [
    "import matplotlib.pyplot as plt\n",
    "import pandas as pd\n",
    "import numpy as np\n",
    "import plotly.io as pio\n",
    "import plotly.express as px\n",
    "from statistics import mode\n",
    "from sklearn.cluster import KMeans\n",
    "import scipy.interpolate\n",
    "import plotly.figure_factory as ff\n",
    "\n",
    "pio.renderers.default = 'browser'\n",
    "plt.close(\"all\")"
   ]
  },
  {
   "attachments": {},
   "cell_type": "markdown",
   "id": "9336ac43",
   "metadata": {},
   "source": [
    "Setting directory and uploading files.\n",
    "\n",
    "\n",
    "short:Contains the ID's, phenotype, first year, last year alive, esimation of flowers and total number of fruits for all the plants.\n",
    "\n",
    "pedigree:Contains the ID's,coordinates and phenotypes of kids and parents, the distance to the parents and the year of the seed, for the plants with parents identified."
   ]
  },
  {
   "cell_type": "code",
   "execution_count": 2,
   "id": "b40ae52c",
   "metadata": {},
   "outputs": [],
   "source": [
    "dire='C:/Users/ferad/OneDrive/Escritorio/ISTA/dataFiles/'\n",
    "short=pd.read_csv(dire+'short.csv', low_memory=False)\n",
    "pedigree=pd.read_csv(dire+'pedigree.csv', low_memory=False)"
   ]
  },
  {
   "cell_type": "markdown",
   "id": "14ac6fdb",
   "metadata": {},
   "source": [
    "Looks for plants without a first ID and adds it based on the ID2 column"
   ]
  },
  {
   "cell_type": "code",
   "execution_count": 3,
   "id": "911646a6",
   "metadata": {},
   "outputs": [
    {
     "name": "stdout",
     "output_type": "stream",
     "text": [
      "Number of flowers with missed ID on the first column: 9\n"
     ]
    }
   ],
   "source": [
    "misLabel=short.loc[short.X.notna() & short.ID2.notna() & short.ID.isnull() & short.FirstYear.notna()].copy() #plants with all data except id1, must be given id2\n",
    "misLabel['ID'] = misLabel['ID2'].str[0:5]\n",
    "\n",
    "print('Number of flowers with missed ID on the first column:', len(misLabel))"
   ]
  },
  {
   "cell_type": "markdown",
   "id": "15dbec6c",
   "metadata": {},
   "source": [
    "Generate a dataframe with the info of the plants presented in short but not in pedigree"
   ]
  },
  {
   "cell_type": "code",
   "execution_count": 4,
   "id": "9217c88e",
   "metadata": {},
   "outputs": [],
   "source": [
    "short=pd.concat([short,misLabel],axis=0)\n",
    "short=short[(short.X>=420000) & (short.X<=428000) & (short.Y>=4680000) & (short.Y<=4689000)] #filter data from the center of the hybrid zone\n",
    "\n",
    "del short['ID2'], misLabel\n",
    "short=short.dropna(subset = [\"ID\"])  \n",
    "short=short.dropna(subset = [\"X\"])\n",
    "\n",
    "missingParent=list((set(short['ID'].tolist()).difference(pedigree['Kid'].tolist()))) #id list missing p\n",
    "missP=short[short.ID.isin(missingParent)] #data frame from missingParent"
   ]
  },
  {
   "cell_type": "markdown",
   "id": "80eedf4d",
   "metadata": {},
   "source": [
    "Clasify parent based on distance"
   ]
  },
  {
   "cell_type": "code",
   "execution_count": 5,
   "id": "adb84f93",
   "metadata": {},
   "outputs": [],
   "source": [
    "pedigree['closeP']=np.where(pedigree['Dist_pa']<pedigree['Dist_ma'],pedigree['Pa'],pedigree['Ma'])\n",
    "pedigree['farP']=np.where(pedigree['Dist_pa']<pedigree['Dist_ma'],pedigree['Ma'],pedigree['Pa'])\n",
    "pedigree['distClose']=np.where(pedigree['Dist_pa']<pedigree['Dist_ma'],pedigree['Dist_pa'],pedigree['Dist_ma'])\n",
    "pedigree['distFar']=np.where(pedigree['Dist_pa']<pedigree['Dist_ma'],pedigree['Dist_ma'],pedigree['Dist_pa'])\n",
    "\n",
    "del pedigree['Ma'], pedigree['Pa'],pedigree['Dist_pa'],pedigree['Dist_ma']\n",
    "\n",
    "distC=pedigree['distClose'].tolist()\n",
    "distC_log=np.log(np.array(distC)+1)\n",
    "distF=pedigree['distFar'].tolist()\n",
    "distF_log=np.log(np.array(distF)+1)\n",
    "#plot\n",
    "hist_data = [distC_log,distF_log]\n",
    "group_labels = ['Distance Close', 'Distance Far']\n",
    "fig = ff.create_distplot(hist_data, group_labels, bin_size=10)\n",
    "fig.show()"
   ]
  },
  {
   "cell_type": "markdown",
   "id": "77b4a6cc",
   "metadata": {},
   "source": [
    "Change data frame per year such that there is an entry of every parent plant for every year that it was alive"
   ]
  },
  {
   "cell_type": "code",
   "execution_count": 6,
   "id": "094d4e28",
   "metadata": {},
   "outputs": [],
   "source": [
    "parents=short[short.ID.isin(pedigree['closeP'].tolist()) | short.ID.isin(pedigree['farP'].tolist()) ]\n",
    "\n",
    "year=2020\n",
    "x=parents.loc[lambda parents: ((parents['FirstYear']<=year) & (parents['LastAlive']>=year)), 'X'].tolist()\n",
    "y=parents.loc[lambda parents: ((parents['FirstYear']<=year) & (parents['LastAlive']>=year)), 'Y'].tolist()\n",
    "ID=parents.loc[lambda parents: ((parents['FirstYear']<=year) & (parents['LastAlive']>=year)), 'ID'].tolist()\n",
    "noFl=parents.loc[lambda parents: ((parents['FirstYear']<=year) & (parents['LastAlive']>=year)), ('TotalFlowers_'+str(year))].tolist()\n",
    "noFr=parents.loc[lambda parents: ((parents['FirstYear']<=year) & (parents['LastAlive']>=year)), ('TotalFruit_'+str(year))].tolist()\n",
    "pheno=parents.loc[lambda parents: ((parents['FirstYear']<=year) & (parents['LastAlive']>=year)), 'pheno'].tolist()\n",
    "years=[year]*len(x)\n",
    "data={'ID':ID,'Year':years,'Pheno':pheno,'X':x,'Y':y,'noFlow':noFl,'noFr':noFr}#add nofl y nofr\n",
    "parentsY=pd.DataFrame(data)\n",
    "\n",
    "for i in range(int(min(parents['FirstYear'])),int(max(parents['LastAlive']))): #change from top to bottom\n",
    "    year=int(i)\n",
    "    x=parents.loc[lambda parents: ((parents['FirstYear']<=year) & (parents['LastAlive']>=year)), 'X'].tolist()\n",
    "    y=parents.loc[lambda parents: ((parents['FirstYear']<=year) & (parents['LastAlive']>=year)), 'Y'].tolist()\n",
    "    ID=parents.loc[lambda parents: ((parents['FirstYear']<=year) & (parents['LastAlive']>=year)), 'ID'].tolist()\n",
    "    #noFl=parents.loc[lambda parents: ((parents['FirstYear']<=year) & (parents['LastAlive']>=year)), ('TotalFlowers_'+str(year))].tolist()\n",
    "    pheno=parents.loc[lambda parents: ((parents['FirstYear']<=year) & (parents['LastAlive']>=year)), 'pheno'].tolist()\n",
    "    years=[year]*len(x)\n",
    "    try:\n",
    "        noFr=parents.loc[lambda parents: ((parents['FirstYear']<=year) & (parents['LastAlive']>=year)), ('TotalFruit_'+str(year))].tolist()\n",
    "    except:\n",
    "        noFr=[np.nan]*len(x)\n",
    "        pass\n",
    "    data={'ID':ID,'Year':years,'Pheno':pheno,'X':x,'Y':y,'noFr':noFr}#add nofl y nofr\n",
    "    parentsB=pd.DataFrame(data)\n",
    "    parentsY=pd.concat([parentsY,parentsB])"
   ]
  },
  {
   "cell_type": "markdown",
   "id": "35a86dbe",
   "metadata": {},
   "source": [
    "After this change we can find a small amount of parents that were not recorded on the year of seed production"
   ]
  },
  {
   "cell_type": "code",
   "execution_count": 7,
   "id": "34c7cac5",
   "metadata": {},
   "outputs": [
    {
     "name": "stdout",
     "output_type": "stream",
     "text": [
      "Percentage of parents that weren't found in the year of seed production:\n",
      "7.9247152055473  %\n"
     ]
    }
   ],
   "source": [
    "##kids an number of total flowers\n",
    "year=pedigree.groupby('year_seed')\n",
    "closeP=year['closeP'].value_counts().to_frame()\n",
    "farP=year['farP'].value_counts().to_frame()\n",
    "\n",
    "farP.index.names=['year_seed','closeP']\n",
    "a=closeP.add(farP, fill_value=0)\n",
    "a=a.fillna(0)\n",
    "\n",
    "p=a['closeP']+a['farP']\n",
    "p=p.reset_index()\n",
    "p.columns = ['Year','ID','noKids']\n",
    "parents=pd.merge(parentsY,p,on=['ID', 'Year'],how='outer')\n",
    "\n",
    "print(\"Percentage of parents that weren't found in the year of seed production:\")\n",
    "print(parents['X'].isna().sum()/len(parents)*100, \" %\")\n",
    "\n",
    "for i in ['Pheno','X','Y','noFlow','noFr']: ##filling values year not encontered\n",
    "    ref=parents.groupby('ID')[i].first().to_frame()\n",
    "    parents[i] = parents[i].fillna(parents['ID'].map(ref[i]))"
   ]
  },
  {
   "cell_type": "markdown",
   "id": "025fb3cd",
   "metadata": {},
   "source": [
    "Graph of the parent plants, the size determines the number of kids and the color the phenotype "
   ]
  },
  {
   "cell_type": "code",
   "execution_count": 8,
   "id": "d1048e7e",
   "metadata": {},
   "outputs": [],
   "source": [
    "parents['Pheno'].fillna('NotIdentified', inplace=True)\n",
    "parents['Pheno'] = parents['Pheno'].astype(str)\n",
    "parents['Pheno']=parents['Pheno'].apply(lambda x: mode(x.split(';')))\n",
    "\n",
    "parents=parents.reset_index()\n",
    "parents['noKids'].fillna(0, inplace=True)\n",
    "parents=parents.sort_values(by=['Year'])\n",
    "\n",
    "fig = px.scatter(parents, x=\"X\", y=\"Y\", animation_frame=\"Year\", animation_group=\"ID\",\n",
    "           size=\"noKids\", color=\"Pheno\", hover_name=\"ID\",\n",
    "           size_max=50,\n",
    "           color_discrete_sequence=[\"red\",\"grey\", \"yellow\", \"darkorange\", \"salmon\",\"sandybrown\",\"white\"] ) #range_x=[100,100000], range_y=[25,90],\n",
    "\n",
    "fig[\"layout\"].pop(\"updatemenus\") # optional, drop animation buttons\n",
    "fig.show()"
   ]
  },
  {
   "cell_type": "markdown",
   "id": "f87b46d8",
   "metadata": {},
   "source": [
    "## Which phenotype appears more frequently as a parent in pedigree?"
   ]
  },
  {
   "cell_type": "code",
   "execution_count": 9,
   "id": "ea82be5e",
   "metadata": {},
   "outputs": [],
   "source": [
    "##pie proportion with kids and color\n",
    "fig = px.pie(parents, values='noKids', names='Pheno', title='Color of parents in pedigree',\n",
    "             color_discrete_sequence=[\"red\",\"yellow\",\"salmon\",\"sandybrown\",\"grey\",\"darkorange\",\"white\"])\n",
    "fig.show()\n"
   ]
  },
  {
   "cell_type": "markdown",
   "id": "5ee0a06d",
   "metadata": {},
   "source": [
    "## Would plants that live for longer have more kids?"
   ]
  },
  {
   "cell_type": "code",
   "execution_count": 10,
   "id": "a5f6a2e2",
   "metadata": {},
   "outputs": [],
   "source": [
    "years=parents.groupby('ID', as_index=False).agg(alive=('ID','count'),\n",
    "                                            noKids=('noKids','sum'))\n",
    "\n",
    "fig = px.pie(years, values='noKids', names='alive', title='Years alive of parents in pedigree')\n",
    "fig.show()\n",
    "\n",
    "fig = px.box(years, x=\"alive\", y=\"noKids\", points=\"all\",\n",
    "             labels=({'alive': 'Years alive','noKids':'Number of Kids'}))\n",
    "fig.show()"
   ]
  },
  {
   "cell_type": "markdown",
   "id": "a7c37d32",
   "metadata": {},
   "source": [
    "## How common is for a plant to have parents from the other road?"
   ]
  },
  {
   "cell_type": "code",
   "execution_count": 11,
   "id": "0797dcdc",
   "metadata": {},
   "outputs": [],
   "source": [
    "###Line for crossing roads\n",
    "coor=pedigree[['X_kid','Y_kid']].values\n",
    "coor=coor+pedigree[['X_ma','Y_ma']].values\n",
    "coor=coor+pedigree[['X_pa','Y_pa']].values\n",
    "\n",
    "coor=pedigree.loc[:,['X_kid','Y_kid']]\n",
    "coor.columns = ['X','Y']\n",
    "ma=pedigree.loc[:,['X_ma','Y_ma']]\n",
    "ma.columns = ['X','Y']\n",
    "pa=pedigree.loc[:,['X_pa','Y_pa']]\n",
    "pa.columns = ['X','Y']\n",
    "coor=pd.concat([coor,ma],axis=0)\n",
    "coor=pd.concat([coor,pa],axis=0)"
   ]
  },
  {
   "cell_type": "markdown",
   "id": "8d48179a",
   "metadata": {},
   "source": [
    "Clasifying plants based on which road they are (upper and lower)"
   ]
  },
  {
   "cell_type": "code",
   "execution_count": 12,
   "id": "d36e0691",
   "metadata": {},
   "outputs": [
    {
     "name": "stdout",
     "output_type": "stream",
     "text": [
      "Percentage of plants in pedigree that have one parent in the other road \n",
      "2.9461998292058067  %\n",
      "Percentage of plants in pedigree that have one parent in the other road \n",
      "0.29888983774551664  %\n"
     ]
    }
   ],
   "source": [
    "coor=pedigree.drop(1046) #value too far \n",
    "\n",
    "x_line=[421350,422220,423210,423630,424380,425820]\n",
    "y_line=[4686250,4686520,4686320,4686110,4686200,4685910]\n",
    "  \n",
    "interpolations=scipy.interpolate.interp1d(x_line, y_line)\n",
    "coor['class_kid']=coor.apply(lambda data: np.sign(data['Y_kid']-interpolations(data['X_kid'])),axis=1)\n",
    "coor['class_ma']=coor.apply(lambda data: np.sign(data['Y_ma']-interpolations(data['X_ma'])),axis=1)\n",
    "coor['class_pa']=coor.apply(lambda data: np.sign(data['Y_pa']-interpolations(data['X_pa'])),axis=1)\n",
    "\n",
    "coor['change_ma']=coor['class_kid']!=coor['class_ma']\n",
    "coor['change_pa']=coor['class_kid']!=coor['class_pa']\n",
    "coor['change_both']=coor['change_ma'] & coor['change_pa']\n",
    "\n",
    "\n",
    "counts = coor['change_ma'].value_counts().to_dict()\n",
    "counts2 = coor['change_pa'].value_counts().to_dict()\n",
    "counts3=coor['change_both'].value_counts().to_dict()\n",
    "print('Percentage of plants in pedigree that have one parent in the other road ')\n",
    "print(((counts[True]+counts2[True]-counts3[True])/len(coor))*100, ' %')\n",
    "\n",
    "\n",
    "print('Percentage of plants in pedigree that have one parent in the other road ')\n",
    "print((counts3[True]/len(coor))*100, ' %')\n",
    "### crossing roads between parents and children"
   ]
  }
 ],
 "metadata": {
  "kernelspec": {
   "display_name": "Python 3 (ipykernel)",
   "language": "python",
   "name": "python3"
  },
  "language_info": {
   "codemirror_mode": {
    "name": "ipython",
    "version": 3
   },
   "file_extension": ".py",
   "mimetype": "text/x-python",
   "name": "python",
   "nbconvert_exporter": "python",
   "pygments_lexer": "ipython3",
   "version": "3.9.12"
  }
 },
 "nbformat": 4,
 "nbformat_minor": 5
}
